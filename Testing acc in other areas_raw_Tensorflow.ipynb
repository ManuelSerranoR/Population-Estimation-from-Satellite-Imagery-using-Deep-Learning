{
 "cells": [
  {
   "cell_type": "code",
   "execution_count": 25,
   "metadata": {
    "collapsed": true
   },
   "outputs": [],
   "source": [
    "import tensorflow as tf\n",
    "import numpy as np\n",
    "import matplotlib.pyplot as plt\n",
    "import cv2\n",
    "import pickle\n",
    "import pandas as pd\n",
    "import glob"
   ]
  },
  {
   "cell_type": "code",
   "execution_count": 26,
   "metadata": {},
   "outputs": [
    {
     "data": {
      "text/plain": [
       "((178, 200, 200, 3), (178,))"
      ]
     },
     "execution_count": 26,
     "metadata": {},
     "output_type": "execute_result"
    }
   ],
   "source": [
    "dataX_east = []\n",
    "dataY_east_classes = []\n",
    "\n",
    "files_0 = glob.glob (\"./test1/0_1/*.png\")\n",
    "for n in files_0:\n",
    "    dataX_east.append(cv2.imread(n))\n",
    "    dataY_east_classes.append(0)\n",
    "    \n",
    "files_1 = glob.glob (\"./test1/1_10/*.png\")\n",
    "for n in files_1:\n",
    "    dataX_east.append(cv2.imread(n))\n",
    "    dataY_east_classes.append(1)\n",
    "    \n",
    "files_2 = glob.glob (\"./test1/10_50/*.png\")\n",
    "for n in files_2:\n",
    "    dataX_east.append(cv2.imread(n))\n",
    "    dataY_east_classes.append(2)\n",
    "    \n",
    "files_3 = glob.glob (\"./test1/50_100/*.png\")\n",
    "for n in files_3:\n",
    "    dataX_east.append(cv2.imread(n))\n",
    "    dataY_east_classes.append(3)\n",
    "    \n",
    "files_4 = glob.glob (\"./test1/100_500/*.png\")\n",
    "for n in files_4:\n",
    "    dataX_east.append(cv2.imread(n))\n",
    "    dataY_east_classes.append(4)\n",
    "    \n",
    "files_5 = glob.glob (\"./test1/500_1000/*.png\")\n",
    "for n in files_5:\n",
    "    dataX_east.append(cv2.imread(n))\n",
    "    dataY_east_classes.append(5)\n",
    "    \n",
    "files_6 = glob.glob (\"./test1/1000_2000/*.png\")\n",
    "for n in files_6:\n",
    "    dataX_east.append(cv2.imread(n))\n",
    "    dataY_east_classes.append(6)\n",
    "    \n",
    "files_7 = glob.glob (\"./test1/2000_11000/*.png\")\n",
    "for n in files_7:\n",
    "    dataX_east.append(cv2.imread(n))\n",
    "    dataY_east_classes.append(7)\n",
    "\n",
    "        \n",
    "dataX_east = np.array(dataX_east)\n",
    "dataX_east = dataX_east.astype(np.uint8)\n",
    "dataY_east_classes = np.array(dataY_east_classes)\n",
    "dataY_east_classes = dataY_east_classes.astype(np.uint8)\n",
    "dataX_east.shape, dataY_east_classes.shape"
   ]
  },
  {
   "cell_type": "code",
   "execution_count": 27,
   "metadata": {
    "scrolled": true
   },
   "outputs": [
    {
     "data": {
      "text/plain": [
       "((160, 200, 200, 3), (160,))"
      ]
     },
     "execution_count": 27,
     "metadata": {},
     "output_type": "execute_result"
    }
   ],
   "source": [
    "dataX_west = []\n",
    "dataY_west_classes = []\n",
    "\n",
    "files_0 = glob.glob (\"./test2/0_1/*.png\")\n",
    "for n in files_0:\n",
    "    dataX_west.append(cv2.imread(n))\n",
    "    dataY_west_classes.append(0)\n",
    "    \n",
    "files_1 = glob.glob (\"./test2/1_10/*.png\")\n",
    "for n in files_1:\n",
    "    dataX_west.append(cv2.imread(n))\n",
    "    dataY_west_classes.append(1)\n",
    "    \n",
    "files_2 = glob.glob (\"./test2/10_50/*.png\")\n",
    "for n in files_2:\n",
    "    dataX_west.append(cv2.imread(n))\n",
    "    dataY_west_classes.append(2)\n",
    "    \n",
    "files_3 = glob.glob (\"./test2/50_100/*.png\")\n",
    "for n in files_3:\n",
    "    dataX_west.append(cv2.imread(n))\n",
    "    dataY_west_classes.append(3)\n",
    "    \n",
    "files_4 = glob.glob (\"./test2/100_500/*.png\")\n",
    "for n in files_4:\n",
    "    dataX_west.append(cv2.imread(n))\n",
    "    dataY_west_classes.append(4)\n",
    "    \n",
    "files_5 = glob.glob (\"./test2/500_1000/*.png\")\n",
    "for n in files_5:\n",
    "    dataX_west.append(cv2.imread(n))\n",
    "    dataY_west_classes.append(5)\n",
    "    \n",
    "files_6 = glob.glob (\"./test2/1000_2000/*.png\")\n",
    "for n in files_6:\n",
    "    dataX_west.append(cv2.imread(n))\n",
    "    dataY_west_classes.append(6)\n",
    "    \n",
    "files_7 = glob.glob (\"./test2/2000_11000/*.png\")\n",
    "for n in files_7:\n",
    "    dataX_west.append(cv2.imread(n))\n",
    "    dataY_west_classes.append(7)\n",
    "\n",
    "        \n",
    "dataX_west = np.array(dataX_west)\n",
    "dataX_west = dataX_west.astype(np.uint8)\n",
    "dataY_west_classes = np.array(dataY_west_classes)\n",
    "dataY_west_classes = dataY_west_classes.astype(np.uint8)\n",
    "dataX_west.shape, dataY_west_classes.shape"
   ]
  },
  {
   "cell_type": "code",
   "execution_count": 28,
   "metadata": {},
   "outputs": [
    {
     "name": "stdout",
     "output_type": "stream",
     "text": [
      "INFO:tensorflow:Restoring parameters from my_test_model\n"
     ]
    }
   ],
   "source": [
    "tf.GraphKeys.USEFUL = 'useful'\n",
    "\n",
    "sess = tf.Session()\n",
    "#First let's load meta graph and restore weights\n",
    "restorer = tf.train.import_meta_graph('my_test_model.meta')\n",
    "restorer.restore(sess, 'my_test_model')\n",
    "\n",
    "var_list = tf.get_collection(tf.GraphKeys.USEFUL)\n",
    "X_feed = var_list[0]\n",
    "Y_feed = var_list[1]\n",
    "loss = var_list[2]\n",
    "pred = var_list[3]\n",
    "train = var_list[4]\n",
    "    \n",
    "feed_dict_east = {X_feed: dataX_east}\n",
    "feed_dict_west = {X_feed: dataX_west}\n",
    "pred_east = sess.run(pred, feed_dict_east)\n",
    "pred_west = sess.run(pred, feed_dict_west)"
   ]
  },
  {
   "cell_type": "code",
   "execution_count": 29,
   "metadata": {},
   "outputs": [],
   "source": [
    "def classify(t):\n",
    "    i = 0\n",
    "    for n in t:\n",
    "        if (n<1):\n",
    "            t[i] = 0\n",
    "            i+=1\n",
    "        if (1<=n) and (n<10):\n",
    "            t[i] = 1\n",
    "            i+=1\n",
    "        if (10<=n) and (n<50):\n",
    "            t[i] = 2\n",
    "            i+=1\n",
    "        if (50<=n) and (n<100):\n",
    "            t[i] = 3\n",
    "            i+=1\n",
    "        if (100<=n) and (n<500):\n",
    "            t[i] = 4\n",
    "            i+=1\n",
    "        if (500<=n) and (n<1000):\n",
    "            t[i] = 5\n",
    "            i+=1\n",
    "        if (1000<=n) and (n<2000):\n",
    "            t[i] = 6\n",
    "            i+=1\n",
    "        if (2000<=n):\n",
    "            t[i] = 7\n",
    "            i+=1\n",
    "    return t"
   ]
  },
  {
   "cell_type": "code",
   "execution_count": 30,
   "metadata": {},
   "outputs": [],
   "source": [
    "Y_pred_east = classify(pred_east)\n",
    "Y_pred_west = classify(pred_west)"
   ]
  },
  {
   "cell_type": "code",
   "execution_count": 36,
   "metadata": {},
   "outputs": [
    {
     "name": "stdout",
     "output_type": "stream",
     "text": [
      "Accuracy on the east coast: 43.258426966292134 %\n"
     ]
    }
   ],
   "source": [
    "count_east = 0\n",
    "for i in range(len(dataY_east_classes)):\n",
    "    if dataY_east_classes[i]==Y_pred_east[i]:\n",
    "        count_east+=1\n",
    "print('Accuracy on the east coast:', count_east/len(dataY_east_classes)*100, '%')"
   ]
  },
  {
   "cell_type": "code",
   "execution_count": 37,
   "metadata": {},
   "outputs": [
    {
     "name": "stdout",
     "output_type": "stream",
     "text": [
      "Accuracy on the east coast: 43.125 %\n"
     ]
    }
   ],
   "source": [
    "count_west = 0\n",
    "for i in range(len(dataY_west_classes)):\n",
    "    if dataY_west_classes[i]==Y_pred_west[i]:\n",
    "        count_west+=1\n",
    "print('Accuracy on the east coast:', count_west/len(dataY_west_classes)*100, '%')"
   ]
  },
  {
   "cell_type": "code",
   "execution_count": null,
   "metadata": {},
   "outputs": [],
   "source": []
  },
  {
   "cell_type": "code",
   "execution_count": null,
   "metadata": {
    "collapsed": true
   },
   "outputs": [],
   "source": []
  }
 ],
 "metadata": {
  "kernelspec": {
   "display_name": "tensorflow",
   "language": "python",
   "name": "tensorflow"
  },
  "language_info": {
   "codemirror_mode": {
    "name": "ipython",
    "version": 3
   },
   "file_extension": ".py",
   "mimetype": "text/x-python",
   "name": "python",
   "nbconvert_exporter": "python",
   "pygments_lexer": "ipython3",
   "version": "3.6.3"
  }
 },
 "nbformat": 4,
 "nbformat_minor": 2
}
