{
 "cells": [
  {
   "cell_type": "code",
   "execution_count": 45,
   "metadata": {},
   "outputs": [],
   "source": [
    "import numpy as np\n",
    "import matplotlib.pyplot as plt\n",
    "import pandas as pd"
   ]
  },
  {
   "cell_type": "code",
   "execution_count": 46,
   "metadata": {},
   "outputs": [],
   "source": [
    "# Open file\n",
    "f = open('uspop10.asc','r')"
   ]
  },
  {
   "cell_type": "code",
   "execution_count": 47,
   "metadata": {},
   "outputs": [],
   "source": [
    "# Load in dataframe\n",
    "linesdf = []\n",
    "for line in f:\n",
    "    linesdf.append(line.split(\" \"))\n",
    "df = pd.DataFrame(linesdf)"
   ]
  },
  {
   "cell_type": "code",
   "execution_count": 48,
   "metadata": {},
   "outputs": [
    {
     "name": "stdout",
     "output_type": "stream",
     "text": [
      "Number of columns is: 6940\n",
      "Number of rows is: 2984\n",
      "Latitude and longitude stride between cells is: 0.0083333333333334\n",
      "Upper West coordinates of dataframe are: (-124.77500000221, 49.38333333575386)\n",
      "Lower East coordinates of dataframe are: (-66.94166666887622, 24.516666669087)\n"
     ]
    }
   ],
   "source": [
    "# Clean dataframe\n",
    "\n",
    "# Get useful values belonging to the dataframe\n",
    "ncols = int(df[9][0][:-1])\n",
    "nrows = int(df[9][1][:-1])\n",
    "cellsize = float(df[6][4][:-1])\n",
    "\n",
    "x_left = float(df[5][2][:-1])\n",
    "y_down = float(df[5][3][:-1])\n",
    "x_right = x_left + ncols*cellsize\n",
    "y_up = y_down + nrows*cellsize\n",
    "\n",
    "upper_west_point = (x_left, y_up)\n",
    "lower_east_point = (x_right, y_down)\n",
    "\n",
    "# Now we get rid of unuseful rows and columns\n",
    "df = df.drop([ncols],axis=1)\n",
    "for i in range(6):\n",
    "    df = df.drop(df.index[0])\n",
    "\n",
    "# Next, we assign the correct values to both latitude and longitude axis\n",
    "indexes_x=[]\n",
    "for i in np.arange(x_left, x_right, cellsize):\n",
    "    indexes_x.append(i)\n",
    "indexes_y=[]\n",
    "for j in np.arange(y_up, y_down, -cellsize):\n",
    "    indexes_y.append(j)\n",
    "    \n",
    "df.columns = indexes_x\n",
    "df.index = indexes_y\n",
    "df = df.replace('-9999', 0)\n",
    "df = df.astype(float)\n",
    "\n",
    "#Useful data display\n",
    "print(\"Number of columns is:\", ncols)\n",
    "print(\"Number of rows is:\", nrows)\n",
    "print(\"Latitude and longitude stride between cells is:\", cellsize)\n",
    "print(\"Upper West coordinates of dataframe are:\", upper_west_point)\n",
    "print(\"Lower East coordinates of dataframe are:\", lower_east_point)"
   ]
  },
  {
   "cell_type": "code",
   "execution_count": 49,
   "metadata": {},
   "outputs": [
    {
     "name": "stdout",
     "output_type": "stream",
     "text": [
      "38.63333333575447 -77.858333335506 40.30000000242115 -76.69166666883933\n"
     ]
    }
   ],
   "source": [
    "test_tower_Lat = 40.711012 + 2*cellsize \n",
    "test_tower_Lng = -74.013064 + 2*cellsize\n",
    "\n",
    "# 100x140 (LatxLng) dimensions of image grid and popullation grid of dataset\n",
    "\n",
    "#Hardcoded starting points based on geographical diversity and number of images\n",
    "start_Lat = 38.633333335754472 # df.index[1290]\n",
    "start_Lng = -77.858333335506003 # df.columns[5630]\n",
    "\n",
    "end_Lat, end_Lng = start_Lat + 100*cellsize*2, start_Lng + 70*cellsize*2\n",
    "print(start_Lat, start_Lng, end_Lat, end_Lng)"
   ]
  },
  {
   "cell_type": "code",
   "execution_count": 50,
   "metadata": {
    "scrolled": false
   },
   "outputs": [
    {
     "data": {
      "text/plain": [
       "5626147.8268373506"
      ]
     },
     "execution_count": 50,
     "metadata": {},
     "output_type": "execute_result"
    }
   ],
   "source": [
    "df_filtered = df.iloc[1190:1190+100,5630:5630+140] # Change this when the new dataframe is ready\n",
    "np.sum(df_filtered.values)"
   ]
  },
  {
   "cell_type": "code",
   "execution_count": 51,
   "metadata": {},
   "outputs": [],
   "source": [
    "import urllib.request\n",
    "from PIL import Image\n",
    "import os\n",
    "import math\n",
    "\n",
    "class GoogleMapDownloader:\n",
    "    \"\"\"\n",
    "        A class which generates high resolution google maps images given\n",
    "        a longitude, latitude and zoom level\n",
    "    \"\"\"\n",
    "\n",
    "    def __init__(self, lat, lng, zoom=12):\n",
    "        \"\"\"\n",
    "            GoogleMapDownloader Constructor\n",
    "\n",
    "            Args:\n",
    "                lat:    The latitude of the location required\n",
    "                lng:    The longitude of the location required\n",
    "                zoom:   The zoom level of the location required, ranges from 0 - 23\n",
    "                        defaults to 12\n",
    "        \"\"\"\n",
    "        self._lat = lat\n",
    "        self._lng = lng\n",
    "        self._zoom = zoom\n",
    "\n",
    "    def getXY(self):\n",
    "        \"\"\"\n",
    "            Generates an X,Y tile coordinate based on the latitude, longitude \n",
    "            and zoom level\n",
    "\n",
    "            Returns:    An X,Y tile coordinate\n",
    "        \"\"\"\n",
    "        \n",
    "        tile_size = 256\n",
    "\n",
    "        # Use a left shift to get the power of 2\n",
    "        # i.e. a zoom level of 2 will have 2^2 = 4 tiles\n",
    "        numTiles = 1 << self._zoom\n",
    "\n",
    "        # Find the x_point given the longitude\n",
    "        point_x = (tile_size/ 2 + self._lng * tile_size / 360.0) * numTiles // tile_size\n",
    "\n",
    "        # Convert the latitude to radians and take the sine\n",
    "        sin_y = math.sin(self._lat * (math.pi / 180.0))\n",
    "\n",
    "        # Calulate the y coorindate\n",
    "        point_y = ((tile_size / 2) + 0.5 * math.log((1+sin_y)/(1-sin_y)) * -(tile_size / (2 * math.pi))) * numTiles // tile_size\n",
    "\n",
    "        return int(point_x), int(point_y)\n",
    "\n",
    "    def generateImage(self, **kwargs):\n",
    "        \"\"\"\n",
    "            Generates an image by stitching a number of google map tiles together.\n",
    "            \n",
    "            Args:\n",
    "                start_x:        The top-left x-tile coordinate\n",
    "                start_y:        The top-left y-tile coordinate\n",
    "                tile_width:     The number of tiles wide the image should be -\n",
    "                                defaults to 5\n",
    "                tile_height:    The number of tiles high the image should be -\n",
    "                                defaults to 5\n",
    "            Returns:\n",
    "                A high-resolution Goole Map image.\n",
    "        \"\"\"\n",
    "\n",
    "        start_x = kwargs.get('start_x', None)\n",
    "        start_y = kwargs.get('start_y', None)\n",
    "        tile_width = kwargs.get('tile_width', 4)\n",
    "        tile_height = kwargs.get('tile_height', 4)\n",
    "\n",
    "        # Check that we have x and y tile coordinates\n",
    "        if start_x == None or start_y == None :\n",
    "            start_x, start_y = self.getXY()\n",
    "\n",
    "        # Determine the size of the image\n",
    "        width, height = 256 * tile_width, 256 * tile_height\n",
    "\n",
    "        #Create a new image of the size require\n",
    "        map_img = Image.new('RGB', (width,height))\n",
    "\n",
    "        for x in range(0, tile_width):\n",
    "            for y in range(0, tile_height) :\n",
    "                url = 'https://mt0.google.com/vt/lyrs=s&x='+str(start_x+x)+'&y='+str(start_y-y)+'&z='+str(self._zoom)\n",
    "                # Where lyrs=\n",
    "                # h = roads only\n",
    "                # m = standard roadmap\n",
    "                # p = terrain\n",
    "                # r = somehow altered roadmap\n",
    "                # s = satellite only\n",
    "                # t = terrain only\n",
    "                # y = hybrid\n",
    "                # Also, we can add &scale=2 at the end to increase pixels to 512x512\n",
    "                #print(url)\n",
    "                current_tile = str(x)+'-'+str(y)\n",
    "                urllib.request.urlretrieve(url, current_tile)\n",
    "            \n",
    "                im = Image.open(current_tile)\n",
    "                map_img.paste(im, (x*256, (3-y)*256))\n",
    "              \n",
    "                os.remove(current_tile)\n",
    "\n",
    "        return map_img"
   ]
  },
  {
   "cell_type": "code",
   "execution_count": 52,
   "metadata": {},
   "outputs": [
    {
     "name": "stdout",
     "output_type": "stream",
     "text": [
      "1 : Could not generate the image at Lat: 1 and Lng: 7\n",
      "2 : Could not generate the image at Lat: 1 and Lng: 15\n",
      "3 : Could not generate the image at Lat: 3 and Lng: 51\n",
      "4 : Could not generate the image at Lat: 4 and Lng: 7\n"
     ]
    }
   ],
   "source": [
    "def main():\n",
    "    # Create a new instance of GoogleMap Downloader\n",
    "    fail_count = 0\n",
    "    for Lat in range(5): # Set back to 100\n",
    "        for Lng in range(70): # Set back to 70\n",
    "            gmd = GoogleMapDownloader(start_Lat + (Lat*cellsize*2), start_Lng + (Lng*cellsize*2), 16)\n",
    "            #gmd = GoogleMapDownloader(40.711012, -74.013064, 16)\n",
    "            #print(\"The tile coorindates are {}\".format(gmd.getXY()))\n",
    "\n",
    "            try:\n",
    "                # Get the high resolution image\n",
    "                img = gmd.generateImage()\n",
    "                #img = img.resize((200, 200), Image.ANTIALIAS)\n",
    "            except IOError:\n",
    "                fail_count += 1\n",
    "                print(fail_count,\": Could not generate the image at Lat:\", Lat, \"and Lng:\", Lng)\n",
    "            else:\n",
    "                #Save the image to disk\n",
    "                img.save(str(Lat)+\"_\"+str(Lng)+\".png\")\n",
    "                #print(\"The map has successfully been created in the loop: \" + str(i))\n",
    "\n",
    "if __name__ == '__main__':  main()"
   ]
  },
  {
   "cell_type": "code",
   "execution_count": null,
   "metadata": {},
   "outputs": [],
   "source": []
  }
 ],
 "metadata": {
  "kernelspec": {
   "display_name": "Python 3",
   "language": "python",
   "name": "python3"
  },
  "language_info": {
   "codemirror_mode": {
    "name": "ipython",
    "version": 3
   },
   "file_extension": ".py",
   "mimetype": "text/x-python",
   "name": "python",
   "nbconvert_exporter": "python",
   "pygments_lexer": "ipython3",
   "version": "3.6.2"
  }
 },
 "nbformat": 4,
 "nbformat_minor": 2
}
