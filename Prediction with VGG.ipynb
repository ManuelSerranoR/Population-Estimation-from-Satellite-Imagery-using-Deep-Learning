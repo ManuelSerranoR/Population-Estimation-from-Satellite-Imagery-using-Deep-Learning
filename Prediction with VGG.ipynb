{
 "cells": [
  {
   "cell_type": "code",
   "execution_count": 7,
   "metadata": {
    "collapsed": true
   },
   "outputs": [],
   "source": [
    "import pandas as pd\n",
    "import numpy as np\n",
    "import matplotlib.pyplot as plt\n",
    "import os\n",
    "import shutil"
   ]
  },
  {
   "cell_type": "code",
   "execution_count": 2,
   "metadata": {
    "collapsed": false
   },
   "outputs": [],
   "source": [
    "df = pd.read_csv('labels.csv', index_col=0)"
   ]
  },
  {
   "cell_type": "markdown",
   "metadata": {},
   "source": [
    "# Appropriate classes for multitype classification"
   ]
  },
  {
   "cell_type": "code",
   "execution_count": 46,
   "metadata": {
    "collapsed": false
   },
   "outputs": [],
   "source": [
    "classes = [(0,1), (1, 10), (10, 50), (50, 100), (100, 500), (500, 1000), (1000, 2000),(2000, 11000)]\n",
    "counts= pd.Series(np.zeros(len(classes), dtype = int),index=classes)"
   ]
  },
  {
   "cell_type": "code",
   "execution_count": 47,
   "metadata": {
    "collapsed": false
   },
   "outputs": [],
   "source": [
    "for entry in np.nditer(df.as_matrix()):\n",
    "    for cl in classes:\n",
    "        if (entry > cl[0]) and (entry <= cl[1]):\n",
    "            counts[cl] += 1    "
   ]
  },
  {
   "cell_type": "code",
   "execution_count": 48,
   "metadata": {
    "collapsed": false
   },
   "outputs": [
    {
     "data": {
      "text/plain": [
       "(0, 1)            110\n",
       "(1, 10)           782\n",
       "(10, 50)         2813\n",
       "(50, 100)         908\n",
       "(100, 500)       1294\n",
       "(500, 1000)       529\n",
       "(1000, 2000)      401\n",
       "(2000, 11000)     119\n",
       "dtype: int64"
      ]
     },
     "execution_count": 48,
     "metadata": {},
     "output_type": "execute_result"
    }
   ],
   "source": [
    "counts"
   ]
  },
  {
   "cell_type": "markdown",
   "metadata": {},
   "source": [
    "These classes all contain sufficiently many locations."
   ]
  },
  {
   "cell_type": "markdown",
   "metadata": {},
   "source": [
    "# Test - Train split and sorting images into libraries"
   ]
  },
  {
   "cell_type": "code",
   "execution_count": 8,
   "metadata": {
    "collapsed": false
   },
   "outputs": [],
   "source": [
    "# Requires that data is in\n",
    "#\n",
    "# C:/Data/images\n",
    "#\n",
    "# And need to create /Data/test\n",
    "# and /Data/train directories\n",
    "\n",
    "datadir = os.getcwd() + '/Data'\n",
    "imagedir = datadir + '/images'\n",
    "traindir = datadir + '/train'\n",
    "valdir = datadir + '/val'"
   ]
  },
  {
   "cell_type": "code",
   "execution_count": 51,
   "metadata": {
    "collapsed": false
   },
   "outputs": [],
   "source": [
    "for cl in classes:\n",
    "    val_dirname = valdir + '/' + str(cl[0]) + '_' + str(cl[1])\n",
    "    train_dirname = traindir + '/' + str(cl[0]) + '_' + str(cl[1])\n",
    "    if not os.path.exists(val_dirname): os.mkdir(val_dirname)\n",
    "    if not os.path.exists(train_dirname): os.mkdir(train_dirname)"
   ]
  },
  {
   "cell_type": "code",
   "execution_count": 52,
   "metadata": {
    "collapsed": true
   },
   "outputs": [],
   "source": [
    "test_rate = 0.2"
   ]
  },
  {
   "cell_type": "code",
   "execution_count": 53,
   "metadata": {
    "collapsed": false
   },
   "outputs": [],
   "source": [
    "for i in range(df.shape[0]):\n",
    "    for j in range(df.shape[1]):\n",
    "        if np.random.random() > test_rate:\n",
    "            target_dir = traindir\n",
    "        else:\n",
    "            target_dir = valdir\n",
    "            \n",
    "        entry = df.iloc[i,j]\n",
    "        \n",
    "        for cl in classes:\n",
    "            if (entry >= cl[0]) and (entry <= cl[1]):\n",
    "                target_dir = target_dir + '/' + str(cl[0]) + '_' + str(cl[1]) + '/'\n",
    "        \n",
    "        shutil.copy(imagedir + '/' + str(99-i) + '_' + str(j) +'.png', target_dir)"
   ]
  },
  {
   "cell_type": "markdown",
   "metadata": {
    "collapsed": true
   },
   "source": [
    "# Using the pretrained neural network"
   ]
  },
  {
   "cell_type": "code",
   "execution_count": 1,
   "metadata": {
    "collapsed": false
   },
   "outputs": [
    {
     "name": "stderr",
     "output_type": "stream",
     "text": [
      "Using Theano backend.\n"
     ]
    }
   ],
   "source": [
    "from vgg16 import Vgg16"
   ]
  },
  {
   "cell_type": "code",
   "execution_count": 38,
   "metadata": {
    "collapsed": true
   },
   "outputs": [],
   "source": [
    "vgg = Vgg16()\n",
    "batch_size = 100"
   ]
  },
  {
   "cell_type": "code",
   "execution_count": 121,
   "metadata": {
    "collapsed": false
   },
   "outputs": [
    {
     "name": "stdout",
     "output_type": "stream",
     "text": [
      "Found 5560 images belonging to 8 classes.\n",
      "Found 1440 images belonging to 8 classes.\n"
     ]
    }
   ],
   "source": [
    "batches = vgg.get_batches(traindir, batch_size=batch_size)\n",
    "val_batches = vgg.get_batches(testdir, batch_size=batch_size)\n",
    "vgg.finetune(batches)"
   ]
  },
  {
   "cell_type": "code",
   "execution_count": 41,
   "metadata": {
    "collapsed": false
   },
   "outputs": [
    {
     "name": "stdout",
     "output_type": "stream",
     "text": [
      "Epoch 1/10\n",
      "5560/5560 [==============================] - 1894s - loss: 1.9767 - acc: 0.4239 - val_loss: 1.2079 - val_acc: 0.5674\n",
      "Epoch 2/10\n",
      "5560/5560 [==============================] - 1962s - loss: 1.5603 - acc: 0.4984 - val_loss: 1.1344 - val_acc: 0.5889\n",
      "Epoch 3/10\n",
      "5560/5560 [==============================] - 1946s - loss: 1.4018 - acc: 0.5176 - val_loss: 1.1179 - val_acc: 0.6028\n",
      "Epoch 4/10\n",
      "5560/5560 [==============================] - 1871s - loss: 1.3323 - acc: 0.5311 - val_loss: 1.0842 - val_acc: 0.5840\n",
      "Epoch 5/10\n",
      "5560/5560 [==============================] - 1883s - loss: 1.2687 - acc: 0.5455 - val_loss: 1.0092 - val_acc: 0.6194\n",
      "Epoch 6/10\n",
      "5560/5560 [==============================] - 1885s - loss: 1.1849 - acc: 0.5536 - val_loss: 1.0658 - val_acc: 0.6062\n",
      "Epoch 7/10\n",
      "5560/5560 [==============================] - 1889s - loss: 1.2053 - acc: 0.5588 - val_loss: 1.0313 - val_acc: 0.6083\n",
      "Epoch 8/10\n",
      "5560/5560 [==============================] - 1892s - loss: 1.1565 - acc: 0.5651 - val_loss: 1.0290 - val_acc: 0.6208\n",
      "Epoch 9/10\n",
      "5560/5560 [==============================] - 1884s - loss: 1.1344 - acc: 0.5806 - val_loss: 1.0179 - val_acc: 0.6090\n",
      "Epoch 10/10\n",
      "5560/5560 [==============================] - 1880s - loss: 1.0728 - acc: 0.5944 - val_loss: 0.9940 - val_acc: 0.6222\n"
     ]
    }
   ],
   "source": [
    "vgg.fit(batches, test_batches, nb_epoch=10)"
   ]
  },
  {
   "cell_type": "code",
   "execution_count": 42,
   "metadata": {
    "collapsed": false
   },
   "outputs": [
    {
     "name": "stdout",
     "output_type": "stream",
     "text": [
      "Epoch 1/20\n",
      "5560/5560 [==============================] - 1894s - loss: 1.1073 - acc: 0.5831 - val_loss: 1.0189 - val_acc: 0.6083\n",
      "Epoch 2/20\n",
      "5560/5560 [==============================] - 1898s - loss: 1.0903 - acc: 0.5933 - val_loss: 1.0156 - val_acc: 0.6090\n",
      "Epoch 3/20\n",
      "5560/5560 [==============================] - 1880s - loss: 1.0927 - acc: 0.5845 - val_loss: 1.0024 - val_acc: 0.6062\n",
      "Epoch 4/20\n",
      "5560/5560 [==============================] - 1873s - loss: 1.0621 - acc: 0.6013 - val_loss: 1.0025 - val_acc: 0.6035\n",
      "Epoch 5/20\n",
      "5560/5560 [==============================] - 1866s - loss: 1.0411 - acc: 0.6016 - val_loss: 1.0265 - val_acc: 0.6076\n",
      "Epoch 6/20\n",
      "5560/5560 [==============================] - 1880s - loss: 1.0308 - acc: 0.6018 - val_loss: 0.9889 - val_acc: 0.6215\n",
      "Epoch 7/20\n",
      "5560/5560 [==============================] - 1842s - loss: 1.0521 - acc: 0.6041 - val_loss: 1.0643 - val_acc: 0.5979\n",
      "Epoch 8/20\n",
      "5560/5560 [==============================] - 1840s - loss: 1.0409 - acc: 0.6047 - val_loss: 0.9897 - val_acc: 0.6236\n",
      "Epoch 9/20\n",
      "5560/5560 [==============================] - 1838s - loss: 1.0300 - acc: 0.6014 - val_loss: 1.0080 - val_acc: 0.6076\n",
      "Epoch 10/20\n",
      "5560/5560 [==============================] - 1843s - loss: 0.9913 - acc: 0.6198 - val_loss: 1.0001 - val_acc: 0.6208\n",
      "Epoch 11/20\n",
      "5560/5560 [==============================] - 1887s - loss: 1.0531 - acc: 0.6045 - val_loss: 1.0243 - val_acc: 0.6153\n",
      "Epoch 12/20\n",
      "5560/5560 [==============================] - 1836s - loss: 1.0245 - acc: 0.6094 - val_loss: 1.0616 - val_acc: 0.5708\n",
      "Epoch 13/20\n",
      "5560/5560 [==============================] - 1573s - loss: 1.0276 - acc: 0.6086 - val_loss: 1.0017 - val_acc: 0.6139\n",
      "Epoch 14/20\n",
      "5560/5560 [==============================] - 1590s - loss: 1.0471 - acc: 0.6031 - val_loss: 1.0253 - val_acc: 0.6167\n",
      "Epoch 15/20\n",
      "5560/5560 [==============================] - 1576s - loss: 1.0269 - acc: 0.6135 - val_loss: 0.9992 - val_acc: 0.6292\n",
      "Epoch 16/20\n",
      "5560/5560 [==============================] - 1557s - loss: 1.0333 - acc: 0.6059 - val_loss: 1.0053 - val_acc: 0.6097\n",
      "Epoch 17/20\n",
      "5560/5560 [==============================] - 1549s - loss: 1.0435 - acc: 0.6085 - val_loss: 1.0264 - val_acc: 0.6167\n",
      "Epoch 18/20\n",
      "5560/5560 [==============================] - 1544s - loss: 1.0174 - acc: 0.6095 - val_loss: 1.0043 - val_acc: 0.6181\n",
      "Epoch 19/20\n",
      "5560/5560 [==============================] - 1535s - loss: 1.0271 - acc: 0.6122 - val_loss: 1.0546 - val_acc: 0.6021\n",
      "Epoch 20/20\n",
      "5560/5560 [==============================] - 1554s - loss: 1.0077 - acc: 0.6248 - val_loss: 1.0054 - val_acc: 0.6229\n"
     ]
    }
   ],
   "source": [
    "vgg.fit(batches, test_batches, nb_epoch=20)"
   ]
  },
  {
   "cell_type": "code",
   "execution_count": 43,
   "metadata": {
    "collapsed": true
   },
   "outputs": [],
   "source": [
    "vgg.model.save_weights('zsolt.h5')"
   ]
  },
  {
   "cell_type": "markdown",
   "metadata": {},
   "source": [
    "# Visualizing results"
   ]
  },
  {
   "cell_type": "markdown",
   "metadata": {},
   "source": [
    "# Some helper functions first"
   ]
  },
  {
   "cell_type": "code",
   "execution_count": 149,
   "metadata": {
    "collapsed": true
   },
   "outputs": [],
   "source": [
    "from sklearn.metrics import confusion_matrix\n",
    "from keras.preprocessing import image\n",
    "from sklearn.preprocessing import OneHotEncoder\n",
    "import matplotlib.pyplot as plt\n",
    "import itertools\n",
    "%matplotlib inline\n",
    "\n",
    "def plot_confusion_matrix(cm, classes, normalize=False, title='Confusion matrix', cmap=plt.cm.Blues):\n",
    "    acc=int(100*np.diag(cm).sum()/float(cm.sum()))/100.0\n",
    "    plt.figure(figsize=(10,10))\n",
    "    plt.imshow(cm, interpolation='nearest', cmap=cmap)\n",
    "    plt.title('{}, Accuracy={}'.format(title,acc))\n",
    "    plt.colorbar()\n",
    "    tick_marks = np.arange(len(classes))\n",
    "    plt.xticks(tick_marks, classes, rotation=90)\n",
    "    plt.yticks(tick_marks, classes)\n",
    "\n",
    "    if normalize:\n",
    "        cm = cm.astype('float') / cm.sum(axis=1)[:, np.newaxis]\n",
    "    #print(cm)\n",
    "    thresh = cm.max() / 2.\n",
    "    for i, j in itertools.product(range(cm.shape[0]), range(cm.shape[1])):\n",
    "        text = round(100 * cm[i,j])/100.0\n",
    "        plt.text(j, i, text, horizontalalignment=\"center\", color=\"white\" if cm[i, j] > thresh else \"black\")\n",
    "\n",
    "    #plt.tight_layout()\n",
    "    plt.ylabel('True label')\n",
    "    plt.xlabel('Predicted label')\n",
    "    \n",
    "def get_batches(dirname, gen=image.ImageDataGenerator(), shuffle=True, batch_size=4, class_mode='categorical',\n",
    "                target_size=(224,224)):\n",
    "    return gen.flow_from_directory(dirname, target_size=target_size,\n",
    "            class_mode=class_mode, shuffle=shuffle, batch_size=batch_size)\n",
    "\n",
    "def get_data(path, target_size=(224,224)):\n",
    "    batches = get_batches(path, shuffle=False, batch_size=1, class_mode=None, target_size=target_size)\n",
    "    return np.concatenate([batches.next() for i in range(batches.nb_sample)])"
   ]
  },
  {
   "cell_type": "code",
   "execution_count": null,
   "metadata": {
    "collapsed": true
   },
   "outputs": [],
   "source": [
    "val_data = get_data(testdir)\n",
    "val_classes = val_batches.classes"
   ]
  },
  {
   "cell_type": "code",
   "execution_count": 76,
   "metadata": {
    "collapsed": false
   },
   "outputs": [
    {
     "name": "stdout",
     "output_type": "stream",
     "text": [
      "Found 1440 images belonging to 8 classes.\n",
      "1440/1440 [==============================] - 260s   \n"
     ]
    }
   ],
   "source": [
    "val_pred_scores = vgg.model.predict(val_data, batch_size=batch_size, verbose = 1)"
   ]
  },
  {
   "cell_type": "code",
   "execution_count": 89,
   "metadata": {
    "collapsed": false
   },
   "outputs": [],
   "source": [
    "val_prediction = [val_pred_scores[i].argmax() for i in range(len(val_pred_scores))]"
   ]
  },
  {
   "cell_type": "code",
   "execution_count": 94,
   "metadata": {
    "collapsed": true
   },
   "outputs": [],
   "source": [
    "cm = confusion_matrix(val_classes, val_prediction)"
   ]
  },
  {
   "cell_type": "code",
   "execution_count": 150,
   "metadata": {
    "collapsed": false
   },
   "outputs": [
    {
     "data": {
      "image/png": "[encoded data removed]",
      "text/plain": [
       "<matplotlib.figure.Figure at 0x7f1bf6d4d2e8>"
      ]
     },
     "metadata": {},
     "output_type": "display_data"
    }
   ],
   "source": [
    "plot_confusion_matrix(cm, val_batches.class_indices, normalize = False)"
   ]
  },
  {
   "cell_type": "markdown",
   "metadata": {},
   "source": [
    "# Retraining last two dense layers"
   ]
  },
  {
   "cell_type": "markdown",
   "metadata": {},
   "source": [
    "Here, we create another vgg model, where instead of just finetuning (i.e. retraining the last layer), we retrain the last two Dense layers."
   ]
  },
  {
   "cell_type": "code",
   "execution_count": 151,
   "metadata": {
    "collapsed": true
   },
   "outputs": [],
   "source": [
    "from keras.layers.core import Dense\n",
    "from keras.optimizers import SGD, RMSprop, Adam"
   ]
  },
  {
   "cell_type": "code",
   "execution_count": 154,
   "metadata": {
    "collapsed": false
   },
   "outputs": [],
   "source": [
    "vgg2 = Vgg16()\n",
    "vgg2.model.pop()\n",
    "for layer in vgg2.model.layers: layer.trainable=False\n",
    "vgg2.model.add(Dense(8, activation='softmax'))\n",
    "vgg2.model.layers[-3].trainable = True"
   ]
  },
  {
   "cell_type": "code",
   "execution_count": 155,
   "metadata": {
    "collapsed": true
   },
   "outputs": [],
   "source": [
    "def fit_model(model, batches, val_batches, nb_epoch=1):\n",
    "    model.fit_generator(batches, samples_per_epoch=batches.n, nb_epoch=nb_epoch, \n",
    "                        validation_data=val_batches, nb_val_samples=val_batches.n)"
   ]
  },
  {
   "cell_type": "code",
   "execution_count": 156,
   "metadata": {
    "collapsed": false
   },
   "outputs": [],
   "source": [
    "opt = Adam(lr=0.1)\n",
    "model.compile(optimizer=opt, loss='categorical_crossentropy', metrics=['accuracy'])"
   ]
  },
  {
   "cell_type": "code",
   "execution_count": null,
   "metadata": {
    "collapsed": false
   },
   "outputs": [
    {
     "name": "stdout",
     "output_type": "stream",
     "text": [
      "Epoch 1/20\n",
      " 400/5560 [=>............................] - ETA: 971s - loss: 10.0335 - acc: 0.3775"
     ]
    }
   ],
   "source": [
    "fit_model(model, batches, val_batches, nb_epoch=20)"
   ]
  },
  {
   "cell_type": "code",
   "execution_count": null,
   "metadata": {
    "collapsed": true
   },
   "outputs": [],
   "source": []
  }
 ],
 "metadata": {
  "anaconda-cloud": {},
  "kernelspec": {
   "display_name": "Python [Root]",
   "language": "python",
   "name": "Python [Root]"
  },
  "language_info": {
   "codemirror_mode": {
    "name": "ipython",
    "version": 3
   },
   "file_extension": ".py",
   "mimetype": "text/x-python",
   "name": "python",
   "nbconvert_exporter": "python",
   "pygments_lexer": "ipython3",
   "version": "3.5.2"
  }
 },
 "nbformat": 4,
 "nbformat_minor": 0
}
